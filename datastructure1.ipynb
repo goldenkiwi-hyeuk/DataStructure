{
  "nbformat": 4,
  "nbformat_minor": 0,
  "metadata": {
    "colab": {
      "name": "datastructure1.ipynb",
      "provenance": [],
      "authorship_tag": "ABX9TyPYetYGVUfFidYJ6sv1ntNN",
      "include_colab_link": true
    },
    "kernelspec": {
      "name": "python3",
      "display_name": "Python 3"
    },
    "language_info": {
      "name": "python"
    }
  },
  "cells": [
    {
      "cell_type": "markdown",
      "metadata": {
        "id": "view-in-github",
        "colab_type": "text"
      },
      "source": [
        "<a href=\"https://colab.research.google.com/github/goldenkiwi-hyeuk/DataStructure/blob/main/datastructure1.ipynb\" target=\"_parent\"><img src=\"https://colab.research.google.com/assets/colab-badge.svg\" alt=\"Open In Colab\"/></a>"
      ]
    },
    {
      "cell_type": "code",
      "execution_count": null,
      "metadata": {
        "colab": {
          "base_uri": "https://localhost:8080/"
        },
        "id": "0kqe3ybuqQo_",
        "outputId": "c190f72e-e8e7-4dc5-82e8-813c5311aa3d"
      },
      "outputs": [
        {
          "output_type": "stream",
          "name": "stdout",
          "text": [
            "Requirement already satisfied: requests in /usr/local/lib/python3.7/dist-packages (2.23.0)\n",
            "Requirement already satisfied: urllib3!=1.25.0,!=1.25.1,<1.26,>=1.21.1 in /usr/local/lib/python3.7/dist-packages (from requests) (1.24.3)\n",
            "Requirement already satisfied: idna<3,>=2.5 in /usr/local/lib/python3.7/dist-packages (from requests) (2.10)\n",
            "Requirement already satisfied: certifi>=2017.4.17 in /usr/local/lib/python3.7/dist-packages (from requests) (2021.10.8)\n",
            "Requirement already satisfied: chardet<4,>=3.0.2 in /usr/local/lib/python3.7/dist-packages (from requests) (3.0.4)\n"
          ]
        }
      ],
      "source": [
        "# pip install requests # 웹접근"
      ]
    },
    {
      "cell_type": "code",
      "source": [
        "# pip install BeautifulSoup4  # 크롤링한 데이터를 분석하기 쉽게 변환"
      ],
      "metadata": {
        "colab": {
          "base_uri": "https://localhost:8080/"
        },
        "id": "bGllbFRdrvfu",
        "outputId": "65d89c03-0faf-44fe-ce53-0d94da060a40"
      },
      "execution_count": null,
      "outputs": [
        {
          "output_type": "stream",
          "name": "stdout",
          "text": [
            "Requirement already satisfied: BeautifulSoup4 in /usr/local/lib/python3.7/dist-packages (4.6.3)\n"
          ]
        }
      ]
    },
    {
      "cell_type": "code",
      "source": [
        "# 인터넷에서 긁는 데이터는 모두 html\n",
        "# html로만 사이트를 만들면 흑백 TV같이 됨\n",
        "# CSS를 활용하기 시작하면 컬러 TV같이 됨\n",
        "# JS를 활용하면 TV로 스마트 TV처럼 다양한 기능을 활용 가능함\n",
        "# 즉 html이 기본틀, css 모양과 색, js는 다양한 추가 기능을 제공가능함\n",
        "# java와 java script는 완전히 다른 언어임\n",
        "\n",
        "# 웹에 들어가 내용을 긁어오는것 = 크롤링"
      ],
      "metadata": {
        "id": "nziIzl9ZsWNK"
      },
      "execution_count": null,
      "outputs": []
    },
    {
      "cell_type": "code",
      "source": [
        "import requests # 웹접근"
      ],
      "metadata": {
        "id": "FBbmsUJRwmSV"
      },
      "execution_count": null,
      "outputs": []
    },
    {
      "cell_type": "code",
      "source": [
        "response = requests.get('https://www.daum.net/') # request의 get 메서드로 해당 페이지의 내용을 긁어옴"
      ],
      "metadata": {
        "id": "1xwl7mOnwqDB"
      },
      "execution_count": null,
      "outputs": []
    },
    {
      "cell_type": "code",
      "source": [
        "print(response.text) # response자체는 덩어리임 해당 세부 내역을 보려면 .text가 붙어야함"
      ],
      "metadata": {
        "colab": {
          "base_uri": "https://localhost:8080/"
        },
        "id": "RWIC00Egw2on",
        "outputId": "38c52a13-61a3-4dc6-c2e3-eb5ccad7d985"
      },
      "execution_count": null,
      "outputs": [
        {
          "output_type": "stream",
          "name": "stdout",
          "text": [
            "<!DOCTYPE html><html lang=\"ko\"> <head> <meta charset=\"utf-8\" /> <title>Daum</title> <meta http-equiv=\"x-ua-compatible\" content=\"IE=edge\" /> <meta property=\"og:url\" content=\"//www.daum.net/\" /> <meta property=\"og:type\" content=\"website\" /> <meta property=\"og:title\" content=\"Daum\" /> <meta http-equiv=\"Pragma\" content=\"no-cache\" /> <meta http-equiv=\"Expires\" content=\"-1\" /> <meta name=\"referrer\" content=\"origin\" /> <meta property=\"og:image\" content=\"https://i1.daumcdn.net/svc/image/U03/common_icon/5587C4E4012FCD0001\" /> <meta property=\"og:description\" content=\"ëì ê´ì¬ ì½íì¸ ë¥¼ ê°ì¥ ì¦ê²ê² ë³¼ ì ìë Daum\" /> <meta name=\"msapplication-task\" content=\"name=Daum;action-uri=//www.daum.net/;icon-uri=/favicon.ico\" /> <meta name=\"msapplication-task\" content=\"name=ë¯¸ëì´ë¤ì;action-uri=//news.daum.net/;icon-uri=/media_favicon.ico\" /> <meta name=\"msapplication-task\" content=\"name=ë©ì¼;action-uri=//mail.daum.net;icon-uri=/mail_favicon.ico\" /> <link href=\"https://t1.daumcdn.net/top/favicon.ico\" rel=\"shortcut icon\" /> <meta name=\"referrer\" content=\"origin\" /> <link rel=\"search\" type=\"application/opensearchdescription+xml\" href=\"https://search.daum.net/OpenSearch.xml\" title=\"ë¤ì\" /> <link rel=\"stylesheet\" href=\"https://t1.daumcdn.net/top/tiller-pc/20211227_154043/css/common.css\" /> <script src=\"https://t1.daumcdn.net/kas/static/na.min.js\"></script> </head> <body> <noscript> ì´ ì¬ì´í¸ì ê¸°ë¥ì ëª¨ë íì©íê¸° ìí´ìë ìë°ì¤í¬ë¦½í¸ë¥¼ íì±í ìí¬ íìê° ììµëë¤. <a href=\"https://www.enable-javascript.com/ko/\"> ë¸ë¼ì°ì ìì ìë°ì¤í¬ë¦½í¸ë¥¼ íì±ííë ë°©ë²</a >ì ì°¸ê³  íì¸ì. </noscript> <script src=\"https://t1.daumcdn.net/tiara/js/v1/tiara.min.js\" type=\"text/javascript\"></script> <script src=\"https://t1.daumcdn.net/top/tiller-pc/lib/1636937121956/polyfill.min.js\" type=\"text/javascript\" ></script> <script src=\"https://t1.daumcdn.net/top/tiller-pc/20211227_154043/js/app.js\" type=\"text/javascript\"></script> <script src=\"https://t1.daumcdn.net/kas/static/ba.min.js\" type=\"text/javascript\" defer></script> <script src=\"https://t1.daumcdn.net/top/tiller-pc/1632900517149/tiller-pc-suggest.js\" type=\"text/javascript\" defer ></script> </body></html>\n"
          ]
        }
      ]
    },
    {
      "cell_type": "code",
      "source": [
        "html = response.text"
      ],
      "metadata": {
        "id": "9TMh-_A5w6Ja"
      },
      "execution_count": null,
      "outputs": []
    },
    {
      "cell_type": "code",
      "source": [
        "from bs4 import BeautifulSoup as bs\n",
        "soup = BeautifulSoup(html, 'html.parser')"
      ],
      "metadata": {
        "id": "3VtX0zwX49pv"
      },
      "execution_count": null,
      "outputs": []
    },
    {
      "cell_type": "code",
      "source": [
        "print(soup)"
      ],
      "metadata": {
        "colab": {
          "base_uri": "https://localhost:8080/"
        },
        "id": "W9WL6Aiu5Stx",
        "outputId": "66187e31-1a96-4ea3-afae-256d403642f3"
      },
      "execution_count": null,
      "outputs": [
        {
          "output_type": "stream",
          "name": "stdout",
          "text": [
            "<!DOCTYPE html>\n",
            "<html lang=\"ko\"> <head> <meta charset=\"utf-8\"/> <title>Daum</title> <meta content=\"IE=edge\" http-equiv=\"x-ua-compatible\"/> <meta content=\"//www.daum.net/\" property=\"og:url\"/> <meta content=\"website\" property=\"og:type\"/> <meta content=\"Daum\" property=\"og:title\"/> <meta content=\"no-cache\" http-equiv=\"Pragma\"/> <meta content=\"-1\" http-equiv=\"Expires\"/> <meta content=\"origin\" name=\"referrer\"/> <meta content=\"https://i1.daumcdn.net/svc/image/U03/common_icon/5587C4E4012FCD0001\" property=\"og:image\"/> <meta content=\"ëì ê´ì¬ ì½íì¸ ë¥¼ ê°ì¥ ì¦ê²ê² ë³¼ ì ìë Daum\" property=\"og:description\"/> <meta content=\"name=Daum;action-uri=//www.daum.net/;icon-uri=/favicon.ico\" name=\"msapplication-task\"/> <meta content=\"name=ë¯¸ëì´ë¤ì;action-uri=//news.daum.net/;icon-uri=/media_favicon.ico\" name=\"msapplication-task\"/> <meta content=\"name=ë©ì¼;action-uri=//mail.daum.net;icon-uri=/mail_favicon.ico\" name=\"msapplication-task\"/> <link href=\"https://t1.daumcdn.net/top/favicon.ico\" rel=\"shortcut icon\"/> <meta content=\"origin\" name=\"referrer\"/> <link href=\"https://search.daum.net/OpenSearch.xml\" rel=\"search\" title=\"ë¤ì\" type=\"application/opensearchdescription+xml\"/> <link href=\"https://t1.daumcdn.net/top/tiller-pc/20211227_154043/css/common.css\" rel=\"stylesheet\"/> <script src=\"https://t1.daumcdn.net/kas/static/na.min.js\"></script> </head> <body> <noscript> ì´ ì¬ì´í¸ì ê¸°ë¥ì ëª¨ë íì©íê¸° ìí´ìë ìë°ì¤í¬ë¦½í¸ë¥¼ íì±í ìí¬ íìê° ììµëë¤. <a href=\"https://www.enable-javascript.com/ko/\"> ë¸ë¼ì°ì ìì ìë°ì¤í¬ë¦½í¸ë¥¼ íì±ííë ë°©ë²</a>ì ì°¸ê³  íì¸ì. </noscript> <script src=\"https://t1.daumcdn.net/tiara/js/v1/tiara.min.js\" type=\"text/javascript\"></script> <script src=\"https://t1.daumcdn.net/top/tiller-pc/lib/1636937121956/polyfill.min.js\" type=\"text/javascript\"></script> <script src=\"https://t1.daumcdn.net/top/tiller-pc/20211227_154043/js/app.js\" type=\"text/javascript\"></script> <script defer=\"\" src=\"https://t1.daumcdn.net/kas/static/ba.min.js\" type=\"text/javascript\"></script> <script defer=\"\" src=\"https://t1.daumcdn.net/top/tiller-pc/1632900517149/tiller-pc-suggest.js\" type=\"text/javascript\"></script> </body></html>\n"
          ]
        }
      ]
    }
  ]
}