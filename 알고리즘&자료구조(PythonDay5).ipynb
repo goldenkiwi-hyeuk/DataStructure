{
  "nbformat": 4,
  "nbformat_minor": 0,
  "metadata": {
    "colab": {
      "name": "알고리즘&자료구조(PythonDay5).ipynb",
      "provenance": [],
      "authorship_tag": "ABX9TyPuawml4KMkI21XkfGK0pJH",
      "include_colab_link": true
    },
    "kernelspec": {
      "name": "python3",
      "display_name": "Python 3"
    },
    "language_info": {
      "name": "python"
    }
  },
  "cells": [
    {
      "cell_type": "markdown",
      "metadata": {
        "id": "view-in-github",
        "colab_type": "text"
      },
      "source": [
        "<a href=\"https://colab.research.google.com/github/goldenkiwi-hyeuk/DataStructure/blob/main/%EC%95%8C%EA%B3%A0%EB%A6%AC%EC%A6%98%26%EC%9E%90%EB%A3%8C%EA%B5%AC%EC%A1%B0(PythonDay5).ipynb\" target=\"_parent\"><img src=\"https://colab.research.google.com/assets/colab-badge.svg\" alt=\"Open In Colab\"/></a>"
      ]
    },
    {
      "cell_type": "code",
      "execution_count": null,
      "metadata": {
        "id": "-FgJ1I8vFGT6"
      },
      "outputs": [],
      "source": [
        "### 알고리즘??\n",
        "\n",
        "# 문제를 해결하기 위한 처리 절차를 구체적인 순서에 따라 표현한 아이디어나 생각\n",
        "# 알고리즘 자체는 일상생활에서도 많이 사용되고 있다\n",
        "# 요리의 레시피, 음악의 악보, 가전제품 사용설명서...\n",
        "\n",
        "# 알고리즘을 프로그래밍 언어로(파이썬, 자바, 씨...) 기술하면 프로그램이다.\n",
        "\n",
        "# 알고리즘을 작성하는 방법에는 프로그래밍 언어, 수도 코드, 흐름도 등이 있다."
      ]
    },
    {
      "cell_type": "code",
      "source": [
        "# 1부터 n까지의 정수의 합을 구하는 알고리즘\n",
        "\n",
        "# 1부터 10까지의 정수\n",
        "# 1 + 2의 결과 3을 기억\n",
        "# 기억해둔 3에 다음숫자인 3을 더한 6을 기억\n",
        "# 기억해둔 6에 다음숫자인 4을 더한 10을 기억\n",
        "#.\n",
        "#.\n",
        "#.\n",
        "#............. 다음숫자인 10을 더한 55을 기억\n",
        "# 마지막 저장한 숫자를 출력\n",
        "\n",
        "s = 0   # 값을 누적시킬 변수\n",
        "n = 100  # 더할 마지막 수\n",
        "\n",
        "for i in range(1,n+1):\n",
        "  s = s+i\n",
        "  print(s)"
      ],
      "metadata": {
        "colab": {
          "base_uri": "https://localhost:8080/"
        },
        "id": "AUyiJA4TIKBu",
        "outputId": "3358f136-6672-4f39-bc02-e83573b10baa"
      },
      "execution_count": 2,
      "outputs": [
        {
          "output_type": "stream",
          "name": "stdout",
          "text": [
            "1\n",
            "3\n",
            "6\n",
            "10\n",
            "15\n",
            "21\n",
            "28\n",
            "36\n",
            "45\n",
            "55\n",
            "66\n",
            "78\n",
            "91\n",
            "105\n",
            "120\n",
            "136\n",
            "153\n",
            "171\n",
            "190\n",
            "210\n",
            "231\n",
            "253\n",
            "276\n",
            "300\n",
            "325\n",
            "351\n",
            "378\n",
            "406\n",
            "435\n",
            "465\n",
            "496\n",
            "528\n",
            "561\n",
            "595\n",
            "630\n",
            "666\n",
            "703\n",
            "741\n",
            "780\n",
            "820\n",
            "861\n",
            "903\n",
            "946\n",
            "990\n",
            "1035\n",
            "1081\n",
            "1128\n",
            "1176\n",
            "1225\n",
            "1275\n",
            "1326\n",
            "1378\n",
            "1431\n",
            "1485\n",
            "1540\n",
            "1596\n",
            "1653\n",
            "1711\n",
            "1770\n",
            "1830\n",
            "1891\n",
            "1953\n",
            "2016\n",
            "2080\n",
            "2145\n",
            "2211\n",
            "2278\n",
            "2346\n",
            "2415\n",
            "2485\n",
            "2556\n",
            "2628\n",
            "2701\n",
            "2775\n",
            "2850\n",
            "2926\n",
            "3003\n",
            "3081\n",
            "3160\n",
            "3240\n",
            "3321\n",
            "3403\n",
            "3486\n",
            "3570\n",
            "3655\n",
            "3741\n",
            "3828\n",
            "3916\n",
            "4005\n",
            "4095\n",
            "4186\n",
            "4278\n",
            "4371\n",
            "4465\n",
            "4560\n",
            "4656\n",
            "4753\n",
            "4851\n",
            "4950\n",
            "5050\n"
          ]
        }
      ]
    },
    {
      "cell_type": "code",
      "source": [
        "def sum_m(m):\n",
        "  return m*(m+1) // 2\n",
        "\n",
        "print(sum_m(10))"
      ],
      "metadata": {
        "colab": {
          "base_uri": "https://localhost:8080/"
        },
        "id": "yXz8ggdUIxjc",
        "outputId": "f9323f04-b343-40bd-e608-17afd8526b4d"
      },
      "execution_count": 6,
      "outputs": [
        {
          "output_type": "stream",
          "name": "stdout",
          "text": [
            "55\n"
          ]
        }
      ]
    },
    {
      "cell_type": "code",
      "source": [
        "# 내가한 버전\n",
        "def find_max(a):\n",
        "  max = a[0]\n",
        "  for i in a:\n",
        "    if max < i:\n",
        "      max = i\n",
        "  return max\n",
        "\n",
        "print(find_max([4,6,8,1,3,9, 10, 3]))"
      ],
      "metadata": {
        "colab": {
          "base_uri": "https://localhost:8080/"
        },
        "id": "8x1SYM4AKvLL",
        "outputId": "42f5efc8-4e07-4e13-b28e-19a1d825f1cc"
      },
      "execution_count": 17,
      "outputs": [
        {
          "output_type": "stream",
          "name": "stdout",
          "text": [
            "10\n"
          ]
        }
      ]
    },
    {
      "cell_type": "code",
      "source": [
        "# 강사님 버전\n",
        "def find_max(a):\n",
        "  n = len(a)  # 전체 리스트의 갯수를 구한다.\n",
        "  mx = a[0]   # 일단 첫번째, (0번째, 4) 값을 임시 최댓값이라고 가정한다.\n",
        "              # 두번째 값을 첫번째 값과 비교하여 둘중 큰값을 다시 임시 최대값으로 설정한다.\n",
        "              # 세번째 값을 다시 임시 최댓값과 비교하여 임시 최대값으로 설정한다.\n",
        "  for i in range(1,n):\n",
        "    if a[i]>mx:\n",
        "      mx=a[i]\n",
        "      print(mx)\n",
        "  return mx\n",
        "print(find_max([4,6,8,1,3,9]))"
      ],
      "metadata": {
        "colab": {
          "base_uri": "https://localhost:8080/"
        },
        "id": "DG3zfF3_MteR",
        "outputId": "511d26a8-cd7b-412a-e61c-6dc3470e660e"
      },
      "execution_count": 19,
      "outputs": [
        {
          "output_type": "stream",
          "name": "stdout",
          "text": [
            "6\n",
            "8\n",
            "9\n",
            "9\n"
          ]
        }
      ]
    },
    {
      "cell_type": "code",
      "source": [
        "# 자료구조 stack, queue\n",
        "# stack 스택 - LIFO (Last In First out) 데이터가 입력되면 순서대로 쌓고\n",
        "#                                       나중에 들어온 것부터 먼저 나간다.\n",
        "\n",
        "def stack():\n",
        "  stacklist= []\n",
        "\n",
        "  stacklist.append(1)\n",
        "  stacklist.append(2)\n",
        "  stacklist.append(3)\n",
        "  stacklist.append(4)\n",
        "  stacklist.append(5)\n",
        "\n",
        "  while stacklist:\n",
        "    print('pop value is ',stacklist.pop())\n",
        "\n",
        "stack()"
      ],
      "metadata": {
        "colab": {
          "base_uri": "https://localhost:8080/"
        },
        "id": "20aFTSixNYLC",
        "outputId": "30fe15f0-b99f-49e3-ae43-7aa5c98ef9d5"
      },
      "execution_count": 23,
      "outputs": [
        {
          "output_type": "stream",
          "name": "stdout",
          "text": [
            "pop value is  5\n",
            "pop value is  4\n",
            "pop value is  3\n",
            "pop value is  2\n",
            "pop value is  1\n"
          ]
        }
      ]
    },
    {
      "cell_type": "code",
      "source": [
        "# 스택 활용- 브라우저 뒤로가기가 대표적인 예시\n",
        "\n",
        "list = []\n",
        "\n",
        "while True:\n",
        "  site = input('방문할 사이트 주소 입력(이전 사이트는  back) : ')\n",
        "  if site != 'back':\n",
        "    list.append(site)\n",
        "  else:\n",
        "    list.pop()\n",
        "  \n",
        "  if len(list) != 0:\n",
        "    print('현재 방문 중인 사이트는 ', list[-1], '입니다.')\n",
        "  else:\n",
        "    print('방문 중인 사이트가 현재 없습니다.')"
      ],
      "metadata": {
        "colab": {
          "base_uri": "https://localhost:8080/",
          "height": 480
        },
        "id": "lREvzigaP64W",
        "outputId": "32014d3e-5876-4e7e-9436-eca6596d56c9"
      },
      "execution_count": 27,
      "outputs": [
        {
          "name": "stdout",
          "output_type": "stream",
          "text": [
            "방문할 사이트 주소 입력(이전 사이트는  back) : www.naver.om\n",
            "현재 방문 중인 사이트는  www.naver.om 입니다.\n",
            "방문할 사이트 주소 입력(이전 사이트는  back) : www.google.com\n",
            "현재 방문 중인 사이트는  www.google.com 입니다.\n",
            "방문할 사이트 주소 입력(이전 사이트는  back) : www.daum.net\n",
            "현재 방문 중인 사이트는  www.daum.net 입니다.\n",
            "방문할 사이트 주소 입력(이전 사이트는  back) : back\n",
            "현재 방문 중인 사이트는  www.google.com 입니다.\n",
            "방문할 사이트 주소 입력(이전 사이트는  back) : back\n",
            "현재 방문 중인 사이트는  www.naver.om 입니다.\n",
            "방문할 사이트 주소 입력(이전 사이트는  back) : back\n",
            "방문 중인 사이트가 현재 없습니다.\n",
            "방문할 사이트 주소 입력(이전 사이트는  back) : back\n"
          ]
        },
        {
          "output_type": "error",
          "ename": "IndexError",
          "evalue": "ignored",
          "traceback": [
            "\u001b[0;31m---------------------------------------------------------------------------\u001b[0m",
            "\u001b[0;31mIndexError\u001b[0m                                Traceback (most recent call last)",
            "\u001b[0;32m<ipython-input-27-2eac85ecffca>\u001b[0m in \u001b[0;36m<module>\u001b[0;34m()\u001b[0m\n\u001b[1;32m      8\u001b[0m     \u001b[0mlist\u001b[0m\u001b[0;34m.\u001b[0m\u001b[0mappend\u001b[0m\u001b[0;34m(\u001b[0m\u001b[0msite\u001b[0m\u001b[0;34m)\u001b[0m\u001b[0;34m\u001b[0m\u001b[0;34m\u001b[0m\u001b[0m\n\u001b[1;32m      9\u001b[0m   \u001b[0;32melse\u001b[0m\u001b[0;34m:\u001b[0m\u001b[0;34m\u001b[0m\u001b[0;34m\u001b[0m\u001b[0m\n\u001b[0;32m---> 10\u001b[0;31m     \u001b[0mlist\u001b[0m\u001b[0;34m.\u001b[0m\u001b[0mpop\u001b[0m\u001b[0;34m(\u001b[0m\u001b[0;34m)\u001b[0m\u001b[0;34m\u001b[0m\u001b[0;34m\u001b[0m\u001b[0m\n\u001b[0m\u001b[1;32m     11\u001b[0m \u001b[0;34m\u001b[0m\u001b[0m\n\u001b[1;32m     12\u001b[0m   \u001b[0;32mif\u001b[0m \u001b[0mlen\u001b[0m\u001b[0;34m(\u001b[0m\u001b[0mlist\u001b[0m\u001b[0;34m)\u001b[0m \u001b[0;34m!=\u001b[0m \u001b[0;36m0\u001b[0m\u001b[0;34m:\u001b[0m\u001b[0;34m\u001b[0m\u001b[0;34m\u001b[0m\u001b[0m\n",
            "\u001b[0;31mIndexError\u001b[0m: pop from empty list"
          ]
        }
      ]
    },
    {
      "cell_type": "code",
      "source": [
        "# 큐 Queue (FIFO)- First in First out 데이터가 입력되면 그 순서대로 쌓고\n",
        "#                                     들어온 것부터 먼저 나가는 자료구조\n",
        "\n",
        "def queue():\n",
        "  qlist=[]\n",
        "  qlist.append(1)\n",
        "  qlist.append(2)\n",
        "  qlist.append(3)\n",
        "  qlist.append(4)\n",
        "  qlist.append(5)\n",
        "\n",
        "  while qlist:\n",
        "    print(\"Get Value : \", qlist.pop(0))\n",
        "\n",
        "queue()"
      ],
      "metadata": {
        "colab": {
          "base_uri": "https://localhost:8080/"
        },
        "id": "XGmX-ojGXPtq",
        "outputId": "6a4d6d80-feb7-44b0-a579-bacd8ba60e42"
      },
      "execution_count": 29,
      "outputs": [
        {
          "output_type": "stream",
          "name": "stdout",
          "text": [
            "Get Value :  1\n",
            "Get Value :  2\n",
            "Get Value :  3\n",
            "Get Value :  4\n",
            "Get Value :  5\n"
          ]
        }
      ]
    },
    {
      "cell_type": "code",
      "source": [
        "# queue 활용 예시\n",
        "# 프린터 출력 순서\n",
        "\n",
        "list = []\n",
        "\n",
        "while True:\n",
        "  fname = input('출력할 파일을 입력하세요(0을 누르시면 출력시작): ')\n",
        "  if fname != '0':\n",
        "    list.append(fname)\n",
        "  else:\n",
        "    print('출력을 시작합니다.')\n",
        "    no = 1\n",
        "    while list:\n",
        "      print(no, '번째 파일을 출력합니다.', list.pop(0))\n",
        "      no += 1\n",
        "    print('모든 파일 출력을 완료하였습니다.')\n",
        "    break"
      ],
      "metadata": {
        "colab": {
          "base_uri": "https://localhost:8080/"
        },
        "id": "PkbB3L95Y6Rz",
        "outputId": "455c3d3f-9532-4421-c807-448f29602470"
      },
      "execution_count": 36,
      "outputs": [
        {
          "output_type": "stream",
          "name": "stdout",
          "text": [
            "출력할 파일을 입력하세요(0을 누르시면 출력시작): asdf\n",
            "출력할 파일을 입력하세요(0을 누르시면 출력시작): eee\n",
            "출력할 파일을 입력하세요(0을 누르시면 출력시작): 0\n",
            "출력을 시작합니다.\n",
            "1 번째 파일을 출력합니다. asdf\n",
            "2 번째 파일을 출력합니다. eee\n",
            "모든 파일 출력을 완료하였습니다.\n"
          ]
        }
      ]
    },
    {
      "cell_type": "code",
      "source": [
        "# palindrome\n",
        "# 내버전\n",
        "bin_list = []\n",
        "def palindrome(a):\n",
        "  if type(a) != type(bin_list):\n",
        "    aa = list(a)\n",
        "  else:\n",
        "    aa = a\n",
        "  for i in a:\n",
        "    if i != aa.pop():\n",
        "      result = False\n",
        "      continue\n",
        "    else:\n",
        "      result = True\n",
        "      break\n",
        "  return result\n",
        "\n",
        "palindrome('aba')\n",
        "palindrome('abac')\n",
        "palindrome(['a','b','a'])\n",
        "palindrome(['a'])\n",
        "palindrome('a')"
      ],
      "metadata": {
        "colab": {
          "base_uri": "https://localhost:8080/"
        },
        "id": "TbNvzF6zaPt_",
        "outputId": "95c5e8cc-c0f5-4b30-9e9d-e9abbf7e26a2"
      },
      "execution_count": 7,
      "outputs": [
        {
          "output_type": "execute_result",
          "data": {
            "text/plain": [
              "True"
            ]
          },
          "metadata": {},
          "execution_count": 7
        }
      ]
    },
    {
      "cell_type": "code",
      "source": [
        "# palindrome\n",
        "# 강사님 버전\n",
        "\n",
        "def palin(s):\n",
        "  qu = []\n",
        "  st = []\n",
        "\n",
        "  for x in s:\n",
        "    qu.append(x.lower())\n",
        "    st.append(x.lower())\n",
        "\n",
        "  while qu:\n",
        "    if qu.pop(0) != st.pop():\n",
        "      return False\n",
        "  return True\n",
        "\n",
        "print(palin('wow'))  #True  "
      ],
      "metadata": {
        "colab": {
          "base_uri": "https://localhost:8080/"
        },
        "id": "gaonzMK5hOgt",
        "outputId": "94c0bb11-63db-4f3d-f567-6446e53687c5"
      },
      "execution_count": 8,
      "outputs": [
        {
          "output_type": "stream",
          "name": "stdout",
          "text": [
            "True\n"
          ]
        }
      ]
    },
    {
      "cell_type": "code",
      "source": [
        "# 괄호 확인\n",
        "# (2+3) * 4 YES, (2+3) * 4 ) NO (2+3) *((4-2) NO\n",
        "# 내버전1\n",
        "\n",
        "def check(a):\n",
        "  aa = list(a)\n",
        "  count_1 = aa.count('(')\n",
        "  count_2 = aa.count(')')\n",
        "  if count_1 == count_2:\n",
        "    print('YES')\n",
        "  else:\n",
        "    print('NO')\n",
        "  \n",
        "a = input('식을 입력하시오 : ')\n",
        "check(a)"
      ],
      "metadata": {
        "colab": {
          "base_uri": "https://localhost:8080/"
        },
        "id": "tExFDZsNhjuD",
        "outputId": "e70c4288-adb0-480f-d5af-003c357e6455"
      },
      "execution_count": 14,
      "outputs": [
        {
          "output_type": "stream",
          "name": "stdout",
          "text": [
            "식을 입력하시오 : (2+3) * 4)\n",
            "['(', '2', '+', '3', ')', ' ', '*', ' ', '4', ')']\n",
            "NO\n"
          ]
        }
      ]
    },
    {
      "cell_type": "code",
      "source": [
        "# 괄호 확인\n",
        "# (2+3) * 4 YES    (2+3) * 4) NO  (2+3) * ((4-2) NO\n",
        "# ((2+3)*4)/3 YES\n",
        "# 내버전2\n",
        "def check(a):\n",
        "\n",
        "  stack = []\n",
        "  stack2 = []\n",
        "  for k in a:\n",
        "    if k == '(':\n",
        "      stack.append(k)\n",
        "    elif k == ')':\n",
        "      stack2.append(k)\n",
        "      if len(stack) == 0:\n",
        "        print('NO')\n",
        "        return                  # return은 함수에서 나가버리는 문법 따라서 break를 사용하지 않음\n",
        "      else:\n",
        "        stack.pop()\n",
        "        stack2.pop()\n",
        "  if stack2 == [] and stack == []:\n",
        "    print('YES')\n",
        "  elif stack2 == []:\n",
        "    print('NO')\n",
        "\n",
        "\n",
        "a = input('확인을 원하는 수식을 입력하세요')\n",
        "check(a)"
      ],
      "metadata": {
        "colab": {
          "base_uri": "https://localhost:8080/"
        },
        "id": "XPP_vUDJjnTA",
        "outputId": "6c88c678-9aad-4b74-d067-e1c9faba6524"
      },
      "execution_count": 38,
      "outputs": [
        {
          "output_type": "stream",
          "name": "stdout",
          "text": [
            "확인을 원하는 수식을 입력하세요((2+3)*4\n",
            "NO\n"
          ]
        }
      ]
    },
    {
      "cell_type": "code",
      "source": [
        "# 괄호 확인\n",
        "# (2+3) * 4 YES    (2+3) * 4) NO  (2+3) * ((4-2) NO\n",
        "# ((2+3)*4)/3 YES\n",
        "# 강사님 버전\n",
        "\n",
        "def check(a):\n",
        "  stack = []\n",
        "  for k in a:\n",
        "    if k == '(':\n",
        "      stack.append(k)\n",
        "    elif k == ')':\n",
        "      if len(stack)==0:\n",
        "        print(\"NO\")\n",
        "        return\n",
        "      else:\n",
        "        stack.pop()\n",
        "        \n",
        "  if len(stack) == 0:\n",
        "    print('YES')\n",
        "    return\n",
        "  else:\n",
        "    print(\"NO\")\n",
        "    return\n",
        "\n",
        "a = input('확인을 원하는 수식을 입력하세요')\n",
        "check(a)"
      ],
      "metadata": {
        "colab": {
          "base_uri": "https://localhost:8080/"
        },
        "id": "Je_rnUOIml6F",
        "outputId": "d6cc78ac-590c-4505-8e93-71fc1298c797"
      },
      "execution_count": 40,
      "outputs": [
        {
          "output_type": "stream",
          "name": "stdout",
          "text": [
            "확인을 원하는 수식을 입력하세요(2+3) * ((4-2)\n",
            "NO\n"
          ]
        }
      ]
    }
  ]
}