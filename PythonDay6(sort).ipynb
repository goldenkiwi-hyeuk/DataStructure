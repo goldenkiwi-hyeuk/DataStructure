{
  "nbformat": 4,
  "nbformat_minor": 0,
  "metadata": {
    "colab": {
      "name": "PythonDay6(sort).ipynb",
      "provenance": [],
      "authorship_tag": "ABX9TyOmf9yOXmmxbr6lvhN4HxQP",
      "include_colab_link": true
    },
    "kernelspec": {
      "name": "python3",
      "display_name": "Python 3"
    },
    "language_info": {
      "name": "python"
    }
  },
  "cells": [
    {
      "cell_type": "markdown",
      "metadata": {
        "id": "view-in-github",
        "colab_type": "text"
      },
      "source": [
        "<a href=\"https://colab.research.google.com/github/goldenkiwi-hyeuk/DataStructure/blob/main/PythonDay6(sort).ipynb\" target=\"_parent\"><img src=\"https://colab.research.google.com/assets/colab-badge.svg\" alt=\"Open In Colab\"/></a>"
      ]
    },
    {
      "cell_type": "code",
      "execution_count": 1,
      "metadata": {
        "id": "xMbZA9x4qZOM"
      },
      "outputs": [],
      "source": [
        "# 정렬 알고리즘\n",
        "\n",
        "# 데이터를 오름차순(1,2,3 ... 가,나,다.... abc...)\n",
        "# 또는 내림차순(...3,2,1 ....다,나,가 ....cba)\n",
        "\n",
        "# 정렬 알고리즘은 검색 엔진, 엑셀, 워드, .... 많은 분야에서 사용된다.\n",
        "\n",
        "# 선택정렬, 버블정렬, 삽입정렬, (퀵정렬) 과 같은 아주 유명하고 많이 알려진 \n",
        "# 알고리즘을 배워두면 알고리즘 전반에 대한 이해도를 높일 수 있다."
      ]
    },
    {
      "cell_type": "code",
      "source": [
        "# 선택 정렬\n",
        "\n",
        "# 정렬되지 않은 데이터 중에서 가장 작은 데이터를 선택하여\n",
        "# 맨 앞부터 순서대로 정렬해 나가는 알고리즘이다.\n",
        "\n",
        "#       0  1  2  3  4   <- 인덱스 0부터 4까지\n",
        "#       12 13 11 14 10  <- 정렬할 실제 데이터(공이라고 가정)\n",
        "\n",
        "# 단순 선택법의 정렬원리는 먼저 가장 작은 숫자의 공을 찾는다(10)\n",
        "# 찾은 제일 작은 공을 0번째 방의 공과 교환한다.\n",
        "\n",
        "# 10 13 11 14 12  10번공은 정렬이 완전히 끝났다.\n",
        "# --          --  10번공은 정렬이 완전히 끝났기 때문에 제외하고 제일 작은공을 교환한다.\n",
        "\n",
        "# 10 11 13 14 12  11번공은 정렬이 완전히 끝났다.\n",
        "#    -- --        10, 11번 공을 제외하고 제일 작은공을 교환한다.\n",
        "\n",
        "# 10 11 12 14 13  12번공은 정렬이 완전히 끝났다.\n",
        "#       --    --  10, 11, 12번 공을 제외하고 제일 작은공을 교환한다.\n",
        "\n",
        "# 10 11 12 13 14  정렬완료\n",
        "#          -- --\n",
        "\n",
        "# 단순 선택법은 두가지 절차가 필요하다.\n",
        "# - 탐색 범위 중 최소값을 찾는다.\n",
        "# - 최소값과 탐색 범위의 맨 앞 요소와 교환한다.\n",
        "\n",
        "# 유사한 절차의 반복이 계속 발생한다. 반복 되는 곳을 반복 구조로 설계한다."
      ],
      "metadata": {
        "id": "Lq29GYcWsnf_"
      },
      "execution_count": 3,
      "outputs": []
    },
    {
      "cell_type": "code",
      "source": [
        "# i = 0\n",
        "# array[i]부터 array[4] 사이의 최소값을 찾는다.\n",
        "# 최소값과 array[i]의 데이터를 교환한다.\n",
        "\n",
        "# i = i+1"
      ],
      "metadata": {
        "id": "eSiZ6vXTvVTB"
      },
      "execution_count": 4,
      "outputs": []
    },
    {
      "cell_type": "code",
      "source": [
        "i = 0\n",
        "\n",
        "def selectionSort(arr):\n",
        "  for i in range(len(arr),0,-1):\n",
        "    max = 0\n",
        "    for j in range(0,i):\n",
        "      if arr[j] > arr[max]:\n",
        "        max = j\n",
        "      arr[max], arr[j] = arr[j], arr[max] # 자리 바꿈\n",
        "  return arr\n",
        "\n",
        "\n",
        "arr = [12, 13, 11, 14, 10]\n",
        "print('정렬 전 :', arr)\n",
        "print('정렬 후 :', selectionSort(arr))"
      ],
      "metadata": {
        "colab": {
          "base_uri": "https://localhost:8080/"
        },
        "id": "kuIj_LQCv05T",
        "outputId": "aa02cc76-1359-4472-cfef-64962a66e6f3"
      },
      "execution_count": 8,
      "outputs": [
        {
          "output_type": "stream",
          "name": "stdout",
          "text": [
            "정렬 전 : [12, 13, 11, 14, 10]\n",
            "정렬 후 : [10, 11, 12, 13, 14]\n"
          ]
        }
      ]
    },
    {
      "cell_type": "code",
      "source": [
        "# 파이썬에서는 두 변수의 할당값을 바꾸고 싶을때\n",
        "# arr[max], arr[j] = arr[j], arr[max]와 같이 바꾸는 것이 가능하나 다른 언어들은 불가능함\n",
        "a = 1\n",
        "b = 2\n",
        "\n",
        "print('교환 전 : a =', a, ', b =',b)\n",
        "\n",
        "# 파이썬에서의 자리 교환\n",
        "a,b = b,a\n",
        "print('교환 후 : a =', a, ', b =',b)\n",
        "\n",
        "# 자바 및 C에서의 자리 교환 스타일\n",
        "a = 1\n",
        "b = 2\n",
        "t = 0\n",
        "print('교환 전 : a =', a, ', b =',b)\n",
        "\n",
        "t = a\n",
        "a = b\n",
        "b = t\n",
        "print('교환 후 : a =', a, ', b =',b)"
      ],
      "metadata": {
        "colab": {
          "base_uri": "https://localhost:8080/"
        },
        "id": "ihYdJU8Ly3I3",
        "outputId": "ebcd5245-6b7b-4ad6-9c1f-8da1ec1ce556"
      },
      "execution_count": 13,
      "outputs": [
        {
          "output_type": "stream",
          "name": "stdout",
          "text": [
            "교환 전 : a = 1 ,b = 2\n",
            "교환 후 : a = 2 ,b = 1\n",
            "교환 전 : a = 1 ,b = 2\n",
            "교환 후 : a = 2 ,b = 1\n"
          ]
        }
      ]
    },
    {
      "cell_type": "code",
      "source": [
        "# 버블 정렬 , 단순 교환법\n",
        "\n",
        "# 인접한 데이터를 교환하여 처리를 반복하여 최종적으로 모든 데이터를\n",
        "# 오름차순 또는 내림차순으로 정렬한다.\n",
        "\n",
        "#       0  1  2  3  4   <- 인덱스 0부터 4까지\n",
        "#       12 13 11 14 10  <- 정렬할 실제 데이터(공이라고 가정)\n",
        "\n",
        "# 뒤(오른쪽)부터 인접한 2개의 공을 비교하여 작은 쪽이 앞(왼쪽)으로 오도록\n",
        "# 교환하는 과정을 반복한다.\n",
        "\n",
        "# 12 13 11 14 10\n",
        "#          -- --\n",
        "# 12 13 11 10 14\n",
        "#          -- --\n",
        "\n",
        "# 12 13 11 10 14\n",
        "#       -- --\n",
        "# 12 13 10 11 14\n",
        "#       -- --\n",
        "\n",
        "# 12 13 10 11 14\n",
        "#    -- --\n",
        "# 12 10 13 11 14\n",
        "#    -- --\n",
        "\n",
        "# 12 10 13 11 14\n",
        "# -- --\n",
        "# 10 12 13 11 14  (10은 완전히 고정)\n",
        "# --\n",
        "\n",
        "# 10          12 13 11 14\n",
        "#                   -- --\n",
        "# 10          12 13 11 14\n",
        "#                -- --\n",
        "# 10          12 11 13 14\n",
        "#                -- --\n",
        "\n",
        "# 10          12 11 13 14\n",
        "#             -- --\n",
        "# 10          11 12 13 14  (11도 완전히 고정)\n",
        "#             -- \n",
        "\n",
        "# 10 11       12 13 14\n",
        "\n",
        "\n",
        "# 버블 정렬\n",
        "# - 끝 요소부터 차례로 인접한 데이터를 교환하여 정렬한다.\n",
        "# - 왼쪽 끝 요소부터 순서대로 하나씩 데이터를 정렬 확정 해 나간다."
      ],
      "metadata": {
        "id": "79TmAoLkzrGT"
      },
      "execution_count": 14,
      "outputs": []
    },
    {
      "cell_type": "code",
      "source": [
        "def bubbleSort(arr):\n",
        "  for i in range(len(arr)-1, 0, -1):\n",
        "    for j in range(0,i):\n",
        "      if arr[j] > arr[j+1]:\n",
        "        arr[j], arr[j+1] = arr[j+1], arr[j]\n",
        "\n",
        "  return arr\n",
        "\n",
        "arr = [12, 13, 11, 14, 10]\n",
        "print('정렬 전 :', arr)\n",
        "print('정렬 후 :', bubbleSort(arr))"
      ],
      "metadata": {
        "colab": {
          "base_uri": "https://localhost:8080/"
        },
        "id": "M2ZYrToW56xJ",
        "outputId": "a0a798bf-22bc-42b2-f9ac-32b9310d5a2a"
      },
      "execution_count": 21,
      "outputs": [
        {
          "output_type": "stream",
          "name": "stdout",
          "text": [
            "정렬 전 : [12, 13, 11, 14, 10]\n",
            "정렬 후 : [10, 11, 12, 13, 14]\n"
          ]
        }
      ]
    },
    {
      "cell_type": "code",
      "source": [
        "# 삽입 정렬\n",
        "\n",
        "# 삽입이라는 이름 그대로 요소를 하나씩 차례대로 올바른 위치에 삽입하여\n",
        "# 최종적으로 전체를 정렬하는 알고리즘이다.\n",
        "# 기본 삽입법, 단순 삽입법이라고 도 부른다.\n",
        "\n",
        "# 실제 일상생활에서 우리가 물건을 정렬할때 사용하는 방법에 가깞다.\n",
        "# 사실 정렬속도는 빠르지 않다. 하지만 개념을 잡기에는 상당히 유익하다.\n",
        "\n",
        "#       0  1  2  3  4   <- 인덱스 0부터 4까지\n",
        "#       12 13 11 14 10  <- 정렬할 실제 데이터(공이라고 가정)\n",
        "\n",
        "# 정렬 처리 방법은 단순하다. 선택한 공을 대소 관계가 올바른 위치에\n",
        "# 삽입하는 것이 기본 동작이다.\n",
        "\n",
        "# 단순 삽입법에서는 공을 '정렬된 공'과 '아직 정렬되지 않은 공'으로 나누어\n",
        "# 생각해 보자. 일단 0번째 방의 공을 이미 정렬된 공이라고 가정하고 나머지\n",
        "# 방에 있는 공들은 '아직 정렬되지 않은 공'이라고 가정한다.\n",
        "\n",
        "# 정렬되지 않은 공 중에서 가장 왼쪽에 있는 공부터 정렬된 공(들) 중\n",
        "# 올바른 위치에 삽입하는 방법을 반복하게 된다.\n",
        "\n",
        "# 현재는 0번방의 12를 정렬된 공으로 가정하고 '아직 정렬되지 않은 공' 중\n",
        "# 가장 왼쪽의 13(index 1)을 '정렬된 공'과 비교하여 올바른 위치에 삽입한다.\n",
        "\n",
        "\n",
        "# 12              13 11 14 10\n",
        "# 12 13           11 14 10\n",
        "# 11 12 13        14 10\n",
        "# 11 12 13 14     10\n",
        "# 10 11 12 13 14\n",
        "\n",
        "# 일단 정렬 된 공은(가정) 12 하나이다.\n",
        "#       12 13 11 14 10\n",
        "#       12 13 11 14 10\n",
        "            \n",
        "#             (11)\n",
        "#       12 13 null 14 10\n",
        "\n",
        "#            (11)\n",
        "#     null 12 13 14 10\n",
        "     \n",
        "#      11 12 13 |14 10\n",
        "\n",
        "#      11 12 13 14 | 10\n",
        "\n",
        "#                   (10)\n",
        "#      11 12 13 14  null\n",
        "#      11 12 13 null 14\n",
        "#      11 12 null 13 14\n",
        "#      11 null 12 13 14\n",
        "#     null 11 12 13 14\n",
        "\n",
        "#       10 11 12 13 14\n",
        "\n",
        "# draw.io Diagrams\n",
        "# 뽑아낸 값 = x\n",
        "# null 은 k"
      ],
      "metadata": {
        "id": "_MZMskf077td"
      },
      "execution_count": 22,
      "outputs": []
    },
    {
      "cell_type": "code",
      "source": [
        "def insertionSort(arr):\n",
        "  for i in range(1, len(arr)):\n",
        "    while i > 0 and arr[i] < arr[i-1]:\n",
        "      arr[i], arr[i-1] = arr[i-1], arr[i] # 자리바꿈\n",
        "      i = i - 1\n",
        "  return arr\n",
        "\n",
        "arr = [12, 13, 11, 14, 10]\n",
        "print('정렬 전 :', arr)\n",
        "print('정렬 후 :', insertionSort(arr))"
      ],
      "metadata": {
        "colab": {
          "base_uri": "https://localhost:8080/"
        },
        "id": "fKiZbi_TNhnb",
        "outputId": "4c777848-4ba3-436d-ec87-bd9b2a43a394"
      },
      "execution_count": 23,
      "outputs": [
        {
          "output_type": "stream",
          "name": "stdout",
          "text": [
            "정렬 전 : [12, 13, 11, 14, 10]\n",
            "정렬 후 : [10, 11, 12, 13, 14]\n"
          ]
        }
      ]
    }
  ]
}